{
 "cells": [
  {
   "cell_type": "markdown",
   "metadata": {},
   "source": [
    "# Simple Hand-Written Digit Recognition with TensorFlow & MNIST\n",
    "\n",
    "In this article, we'll create a very simple model using TensorFlow, that learns\n",
    "to recognize hand-written digits. The example is intended to serve as a baseline\n",
    "for future articles.\n",
    "\n",
    "The article is written using Jupyter Lab, and you can download the corresponding\n",
    "code at https://github.com/alan-cooney/blog ."
   ]
  },
  {
   "cell_type": "markdown",
   "metadata": {},
   "source": [
    "## Setup\n",
    "\n",
    "First we'll import the key dependencies:"
   ]
  },
  {
   "cell_type": "code",
   "execution_count": 1,
   "metadata": {},
   "outputs": [],
   "source": [
    "import typing\n",
    "from os import getcwd, path\n",
    "\n",
    "import tensorflow as tf\n",
    "import tensorflow_datasets as tfds\n",
    "from keras import models\n",
    "from matplotlib import pyplot\n",
    "from tensorflow.python.data.ops import dataset_ops\n",
    "from tensorflow_datasets.core import dataset_info"
   ]
  },
  {
   "cell_type": "markdown",
   "metadata": {},
   "source": [
    "Next we'll download the [MNIST dataset](http://yann.lecun.com/exdb/mnist/) using `tensorflow_datasets`:"
   ]
  },
  {
   "cell_type": "code",
   "execution_count": 2,
   "metadata": {},
   "outputs": [],
   "source": [
    "# Add types for the dataset\n",
    "ds_train: dataset_ops.Dataset\n",
    "ds_test: dataset_ops.Dataset\n",
    "ds_info = dataset_info.DatasetInfo\n",
    "\n",
    "# Download\n",
    "(ds_train, ds_test), ds_info = tfds.load(\n",
    "    'mnist',\n",
    "    split=['train', 'test'], # Split into training and testing data\n",
    "    data_dir=path.join(getcwd(), \".data\"), # Store in .data/\n",
    "    as_supervised=True, # Get tuples (features, label)\n",
    "    with_info=True, # Include extra info about the dataset\n",
    ")"
   ]
  },
  {
   "cell_type": "markdown",
   "metadata": {},
   "source": [
    "After this we'll normalize the images so that each pixel is a float (0-1) rather\n",
    "than an integer (0-255). This isn't vital, but does improve learning."
   ]
  },
  {
   "cell_type": "code",
   "execution_count": 3,
   "metadata": {},
   "outputs": [],
   "source": [
    "def normalize_img(image: tf.Tensor, label: tf.Tensor) -> typing.Tuple[tf.Tensor, tf.Tensor]:\n",
    "  \"\"\"Normalize image from `uint8` to `float32`\n",
    "\n",
    "  The image pixels are given as integers from 0 (black)  to 255 (white).\n",
    "\n",
    "  Args:\n",
    "      image (tf.uint8): Image tensor of type unit8\n",
    "      label (tf.int64): Label\n",
    "\n",
    "  Returns:\n",
    "      typing.Tuple[tf.float32, tf.int64]: Tuple with the normalised image, and label\n",
    "  \"\"\"\n",
    "  normalized_image = tf.cast(image, tf.float32) / 255. \n",
    "  return normalized_image, label\n",
    "\n",
    "ds_train = ds_train.map(normalize_img)\n",
    "ds_test = ds_test.map(normalize_img)"
   ]
  },
  {
   "cell_type": "markdown",
   "metadata": {},
   "source": [
    "Then finally we'll put into batches images."
   ]
  },
  {
   "cell_type": "code",
   "execution_count": 4,
   "metadata": {},
   "outputs": [],
   "source": [
    "ds_train = ds_train.batch(64)\n",
    "ds_test = ds_test.batch(64)"
   ]
  },
  {
   "cell_type": "markdown",
   "metadata": {},
   "source": [
    "## The Model\n",
    "\n",
    "Next we'll create a very simple model. First we need to flatten each image (so\n",
    "it becomes a 1x784 vector), and then the simplest approach is to just use one\n",
    "layer (which does get to around 90% accuracy). However to get 95%+ accuracy,\n",
    "we'll use two layers with a ReLU activation layer in-between."
   ]
  },
  {
   "cell_type": "code",
   "execution_count": 5,
   "metadata": {},
   "outputs": [],
   "source": [
    "model = models.Sequential([\n",
    "  tf.keras.layers.Flatten(input_shape=(28, 28)),\n",
    "  tf.keras.layers.Dense(128, activation='relu'),\n",
    "  tf.keras.layers.Dense(10)\n",
    "])"
   ]
  },
  {
   "cell_type": "markdown",
   "metadata": {},
   "source": [
    "Next we'll compile the model, setting up an optimizer and a loss function.\n",
    "\n",
    "For the optimizer we'll use stochastic gradient descent (as this is really the\n",
    "simplest approach), noting that using an adaptive optimizer (e.g. Adam) would\n",
    "actually learn much faster.\n",
    "\n",
    "For loss we'll use cross-entropy."
   ]
  },
  {
   "cell_type": "code",
   "execution_count": 6,
   "metadata": {},
   "outputs": [],
   "source": [
    "model.compile(\n",
    "    optimizer=tf.keras.optimizers.SGD(0.01), # Stochastic gradient descent.\n",
    "    loss=tf.keras.losses.SparseCategoricalCrossentropy(from_logits=True), # Standard cross-entropy loss\n",
    "    metrics=[tf.keras.metrics.SparseCategoricalAccuracy()], # Report how often predictions match integer labels\n",
    ")"
   ]
  },
  {
   "cell_type": "markdown",
   "metadata": {},
   "source": [
    "And with that we can train the model:"
   ]
  },
  {
   "cell_type": "code",
   "execution_count": 10,
   "metadata": {},
   "outputs": [
    {
     "name": "stdout",
     "output_type": "stream",
     "text": [
      "Epoch 1/30\n",
      "938/938 [==============================] - 2s 3ms/step - loss: 0.1247 - sparse_categorical_accuracy: 0.9654 - val_loss: 0.1306 - val_sparse_categorical_accuracy: 0.9629\n",
      "Epoch 2/30\n",
      "938/938 [==============================] - 2s 2ms/step - loss: 0.1220 - sparse_categorical_accuracy: 0.9662 - val_loss: 0.1285 - val_sparse_categorical_accuracy: 0.9635\n",
      "Epoch 3/30\n",
      "938/938 [==============================] - 2s 3ms/step - loss: 0.1194 - sparse_categorical_accuracy: 0.9671 - val_loss: 0.1265 - val_sparse_categorical_accuracy: 0.9638\n",
      "Epoch 4/30\n",
      "938/938 [==============================] - 2s 3ms/step - loss: 0.1169 - sparse_categorical_accuracy: 0.9678 - val_loss: 0.1245 - val_sparse_categorical_accuracy: 0.9648\n",
      "Epoch 5/30\n",
      "938/938 [==============================] - 2s 3ms/step - loss: 0.1145 - sparse_categorical_accuracy: 0.9685 - val_loss: 0.1227 - val_sparse_categorical_accuracy: 0.9656\n",
      "Epoch 6/30\n",
      "938/938 [==============================] - 2s 3ms/step - loss: 0.1122 - sparse_categorical_accuracy: 0.9693 - val_loss: 0.1208 - val_sparse_categorical_accuracy: 0.9663\n",
      "Epoch 7/30\n",
      "938/938 [==============================] - 2s 2ms/step - loss: 0.1100 - sparse_categorical_accuracy: 0.9699 - val_loss: 0.1191 - val_sparse_categorical_accuracy: 0.9667\n",
      "Epoch 8/30\n",
      "938/938 [==============================] - 2s 2ms/step - loss: 0.1079 - sparse_categorical_accuracy: 0.9703 - val_loss: 0.1175 - val_sparse_categorical_accuracy: 0.9668\n",
      "Epoch 9/30\n",
      "938/938 [==============================] - 3s 3ms/step - loss: 0.1058 - sparse_categorical_accuracy: 0.9711 - val_loss: 0.1160 - val_sparse_categorical_accuracy: 0.9667\n",
      "Epoch 10/30\n",
      "938/938 [==============================] - 3s 3ms/step - loss: 0.1038 - sparse_categorical_accuracy: 0.9717 - val_loss: 0.1145 - val_sparse_categorical_accuracy: 0.9671\n",
      "Epoch 11/30\n",
      "938/938 [==============================] - 2s 3ms/step - loss: 0.1019 - sparse_categorical_accuracy: 0.9723 - val_loss: 0.1130 - val_sparse_categorical_accuracy: 0.9674\n",
      "Epoch 12/30\n",
      "938/938 [==============================] - 3s 3ms/step - loss: 0.1001 - sparse_categorical_accuracy: 0.9729 - val_loss: 0.1117 - val_sparse_categorical_accuracy: 0.9675\n",
      "Epoch 13/30\n",
      "938/938 [==============================] - 2s 3ms/step - loss: 0.0983 - sparse_categorical_accuracy: 0.9733 - val_loss: 0.1104 - val_sparse_categorical_accuracy: 0.9677\n",
      "Epoch 14/30\n",
      "938/938 [==============================] - 2s 2ms/step - loss: 0.0966 - sparse_categorical_accuracy: 0.9737 - val_loss: 0.1091 - val_sparse_categorical_accuracy: 0.9677\n",
      "Epoch 15/30\n",
      "938/938 [==============================] - 2s 3ms/step - loss: 0.0949 - sparse_categorical_accuracy: 0.9741 - val_loss: 0.1079 - val_sparse_categorical_accuracy: 0.9681\n",
      "Epoch 16/30\n",
      "938/938 [==============================] - 2s 2ms/step - loss: 0.0933 - sparse_categorical_accuracy: 0.9745 - val_loss: 0.1067 - val_sparse_categorical_accuracy: 0.9689\n",
      "Epoch 17/30\n",
      "938/938 [==============================] - 2s 3ms/step - loss: 0.0918 - sparse_categorical_accuracy: 0.9750 - val_loss: 0.1056 - val_sparse_categorical_accuracy: 0.9693\n",
      "Epoch 18/30\n",
      "938/938 [==============================] - 2s 3ms/step - loss: 0.0902 - sparse_categorical_accuracy: 0.9754 - val_loss: 0.1046 - val_sparse_categorical_accuracy: 0.9699\n",
      "Epoch 19/30\n",
      "938/938 [==============================] - 2s 3ms/step - loss: 0.0888 - sparse_categorical_accuracy: 0.9759 - val_loss: 0.1035 - val_sparse_categorical_accuracy: 0.9704\n",
      "Epoch 20/30\n",
      "938/938 [==============================] - 3s 3ms/step - loss: 0.0874 - sparse_categorical_accuracy: 0.9763 - val_loss: 0.1026 - val_sparse_categorical_accuracy: 0.9707\n",
      "Epoch 21/30\n",
      "938/938 [==============================] - 2s 2ms/step - loss: 0.0860 - sparse_categorical_accuracy: 0.9767 - val_loss: 0.1016 - val_sparse_categorical_accuracy: 0.9711\n",
      "Epoch 22/30\n",
      "938/938 [==============================] - 2s 2ms/step - loss: 0.0846 - sparse_categorical_accuracy: 0.9771 - val_loss: 0.1007 - val_sparse_categorical_accuracy: 0.9715\n",
      "Epoch 23/30\n",
      "938/938 [==============================] - 2s 2ms/step - loss: 0.0833 - sparse_categorical_accuracy: 0.9775 - val_loss: 0.0998 - val_sparse_categorical_accuracy: 0.9722\n",
      "Epoch 24/30\n",
      "938/938 [==============================] - 2s 2ms/step - loss: 0.0821 - sparse_categorical_accuracy: 0.9780 - val_loss: 0.0990 - val_sparse_categorical_accuracy: 0.9723\n",
      "Epoch 25/30\n",
      "938/938 [==============================] - 2s 3ms/step - loss: 0.0808 - sparse_categorical_accuracy: 0.9782 - val_loss: 0.0981 - val_sparse_categorical_accuracy: 0.9724\n",
      "Epoch 26/30\n",
      "938/938 [==============================] - 2s 3ms/step - loss: 0.0796 - sparse_categorical_accuracy: 0.9786 - val_loss: 0.0973 - val_sparse_categorical_accuracy: 0.9727\n",
      "Epoch 27/30\n",
      "938/938 [==============================] - 2s 2ms/step - loss: 0.0785 - sparse_categorical_accuracy: 0.9789 - val_loss: 0.0966 - val_sparse_categorical_accuracy: 0.9730\n",
      "Epoch 28/30\n",
      "938/938 [==============================] - 2s 2ms/step - loss: 0.0773 - sparse_categorical_accuracy: 0.9791 - val_loss: 0.0958 - val_sparse_categorical_accuracy: 0.9732\n",
      "Epoch 29/30\n",
      "938/938 [==============================] - 2s 3ms/step - loss: 0.0762 - sparse_categorical_accuracy: 0.9793 - val_loss: 0.0951 - val_sparse_categorical_accuracy: 0.9732\n",
      "Epoch 30/30\n",
      "938/938 [==============================] - 3s 3ms/step - loss: 0.0751 - sparse_categorical_accuracy: 0.9797 - val_loss: 0.0944 - val_sparse_categorical_accuracy: 0.9734\n"
     ]
    }
   ],
   "source": [
    "history = model.fit(\n",
    "    ds_train,\n",
    "    epochs=30,\n",
    "    validation_data=ds_test,\n",
    ")"
   ]
  },
  {
   "cell_type": "markdown",
   "metadata": {},
   "source": [
    "Finally, here's a plot of accuracy:"
   ]
  },
  {
   "cell_type": "code",
   "execution_count": 9,
   "metadata": {},
   "outputs": [
    {
     "data": {
      "image/png": "[encoded data removed]",
      "text/plain": [
       "<Figure size 640x480 with 1 Axes>"
      ]
     },
     "metadata": {},
     "output_type": "display_data"
    }
   ],
   "source": [
    "pyplot.plot(history.history['val_sparse_categorical_accuracy'])\n",
    "pyplot.title('Model accuracy (on test data)')\n",
    "pyplot.ylabel('Accuracy')\n",
    "pyplot.ylim([0.85, 1])\n",
    "pyplot.xlabel('Epoch')\n",
    "pyplot.show()"
   ]
  }
 ],
 "metadata": {
  "kernelspec": {
   "display_name": "Python 3.10.4 64-bit",
   "language": "python",
   "name": "python3"
  },
  "language_info": {
   "codemirror_mode": {
    "name": "ipython",
    "version": 3
   },
   "file_extension": ".py",
   "mimetype": "text/x-python",
   "name": "python",
   "nbconvert_exporter": "python",
   "pygments_lexer": "ipython3",
   "version": "3.8.10"
  },
  "orig_nbformat": 4,
  "vscode": {
   "interpreter": {
    "hash": "31f2aee4e71d21fbe5cf8b01ff0e069b9275f58929596ceb00d14d90e3e16cd6"
   }
  }
 },
 "nbformat": 4,
 "nbformat_minor": 2
}
